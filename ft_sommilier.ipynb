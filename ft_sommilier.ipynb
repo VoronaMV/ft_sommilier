{
 "cells": [
  {
   "cell_type": "markdown",
   "metadata": {},
   "source": [
    "# V.1 Exploring the green reds"
   ]
  },
  {
   "cell_type": "markdown",
   "metadata": {},
   "source": [
    "## a) Function that plots a scatterplot matrix"
   ]
  },
  {
   "cell_type": "code",
   "execution_count": 1,
   "metadata": {},
   "outputs": [],
   "source": [
    "from matplotlib import scale\n",
    "%load_ext Cython\n"
   ]
  },
  {
   "cell_type": "code",
   "execution_count": 189,
   "metadata": {},
   "outputs": [],
   "source": [
    "import itertools\n",
    "import matplotlib.pyplot as plt\n",
    "import pandas as pd\n",
    "import random\n",
    "\n",
    "\n",
    "random.seed(3)"
   ]
  },
  {
   "cell_type": "code",
   "execution_count": 2,
   "metadata": {},
   "outputs": [
    {
     "data": {
      "text/html": [
       "<div>\n",
       "<style scoped>\n",
       "    .dataframe tbody tr th:only-of-type {\n",
       "        vertical-align: middle;\n",
       "    }\n",
       "\n",
       "    .dataframe tbody tr th {\n",
       "        vertical-align: top;\n",
       "    }\n",
       "\n",
       "    .dataframe thead th {\n",
       "        text-align: right;\n",
       "    }\n",
       "</style>\n",
       "<table border=\"1\" class=\"dataframe\">\n",
       "  <thead>\n",
       "    <tr style=\"text-align: right;\">\n",
       "      <th></th>\n",
       "      <th>fixed acidity</th>\n",
       "      <th>volatile acidity</th>\n",
       "      <th>citric acid</th>\n",
       "      <th>residual sugar</th>\n",
       "      <th>chlorides</th>\n",
       "      <th>free sulfur dioxide</th>\n",
       "      <th>total sulfur dioxide</th>\n",
       "      <th>density</th>\n",
       "      <th>pH</th>\n",
       "      <th>sulphates</th>\n",
       "      <th>alcohol</th>\n",
       "      <th>quality</th>\n",
       "    </tr>\n",
       "  </thead>\n",
       "  <tbody>\n",
       "    <tr>\n",
       "      <th>0</th>\n",
       "      <td>7.4</td>\n",
       "      <td>0.70</td>\n",
       "      <td>0.00</td>\n",
       "      <td>1.9</td>\n",
       "      <td>0.076</td>\n",
       "      <td>11.0</td>\n",
       "      <td>34.0</td>\n",
       "      <td>0.9978</td>\n",
       "      <td>3.51</td>\n",
       "      <td>0.56</td>\n",
       "      <td>9.4</td>\n",
       "      <td>5</td>\n",
       "    </tr>\n",
       "    <tr>\n",
       "      <th>1</th>\n",
       "      <td>7.8</td>\n",
       "      <td>0.88</td>\n",
       "      <td>0.00</td>\n",
       "      <td>2.6</td>\n",
       "      <td>0.098</td>\n",
       "      <td>25.0</td>\n",
       "      <td>67.0</td>\n",
       "      <td>0.9968</td>\n",
       "      <td>3.20</td>\n",
       "      <td>0.68</td>\n",
       "      <td>9.8</td>\n",
       "      <td>5</td>\n",
       "    </tr>\n",
       "    <tr>\n",
       "      <th>2</th>\n",
       "      <td>7.8</td>\n",
       "      <td>0.76</td>\n",
       "      <td>0.04</td>\n",
       "      <td>2.3</td>\n",
       "      <td>0.092</td>\n",
       "      <td>15.0</td>\n",
       "      <td>54.0</td>\n",
       "      <td>0.9970</td>\n",
       "      <td>3.26</td>\n",
       "      <td>0.65</td>\n",
       "      <td>9.8</td>\n",
       "      <td>5</td>\n",
       "    </tr>\n",
       "    <tr>\n",
       "      <th>3</th>\n",
       "      <td>11.2</td>\n",
       "      <td>0.28</td>\n",
       "      <td>0.56</td>\n",
       "      <td>1.9</td>\n",
       "      <td>0.075</td>\n",
       "      <td>17.0</td>\n",
       "      <td>60.0</td>\n",
       "      <td>0.9980</td>\n",
       "      <td>3.16</td>\n",
       "      <td>0.58</td>\n",
       "      <td>9.8</td>\n",
       "      <td>6</td>\n",
       "    </tr>\n",
       "    <tr>\n",
       "      <th>4</th>\n",
       "      <td>7.4</td>\n",
       "      <td>0.70</td>\n",
       "      <td>0.00</td>\n",
       "      <td>1.9</td>\n",
       "      <td>0.076</td>\n",
       "      <td>11.0</td>\n",
       "      <td>34.0</td>\n",
       "      <td>0.9978</td>\n",
       "      <td>3.51</td>\n",
       "      <td>0.56</td>\n",
       "      <td>9.4</td>\n",
       "      <td>5</td>\n",
       "    </tr>\n",
       "  </tbody>\n",
       "</table>\n",
       "</div>"
      ],
      "text/plain": [
       "   fixed acidity  volatile acidity  citric acid  residual sugar  chlorides  \\\n",
       "0            7.4              0.70         0.00             1.9      0.076   \n",
       "1            7.8              0.88         0.00             2.6      0.098   \n",
       "2            7.8              0.76         0.04             2.3      0.092   \n",
       "3           11.2              0.28         0.56             1.9      0.075   \n",
       "4            7.4              0.70         0.00             1.9      0.076   \n",
       "\n",
       "   free sulfur dioxide  total sulfur dioxide  density    pH  sulphates  \\\n",
       "0                 11.0                  34.0   0.9978  3.51       0.56   \n",
       "1                 25.0                  67.0   0.9968  3.20       0.68   \n",
       "2                 15.0                  54.0   0.9970  3.26       0.65   \n",
       "3                 17.0                  60.0   0.9980  3.16       0.58   \n",
       "4                 11.0                  34.0   0.9978  3.51       0.56   \n",
       "\n",
       "   alcohol  quality  \n",
       "0      9.4        5  \n",
       "1      9.8        5  \n",
       "2      9.8        5  \n",
       "3      9.8        6  \n",
       "4      9.4        5  "
      ]
     },
     "execution_count": 2,
     "metadata": {},
     "output_type": "execute_result"
    }
   ],
   "source": [
    "red_wine_data = pd.read_csv('resources/winequality-red.csv', sep=';')\n",
    "red_wine_data.head()"
   ]
  },
  {
   "cell_type": "code",
   "execution_count": 3,
   "metadata": {},
   "outputs": [
    {
     "data": {
      "text/html": [
       "<div>\n",
       "<style scoped>\n",
       "    .dataframe tbody tr th:only-of-type {\n",
       "        vertical-align: middle;\n",
       "    }\n",
       "\n",
       "    .dataframe tbody tr th {\n",
       "        vertical-align: top;\n",
       "    }\n",
       "\n",
       "    .dataframe thead th {\n",
       "        text-align: right;\n",
       "    }\n",
       "</style>\n",
       "<table border=\"1\" class=\"dataframe\">\n",
       "  <thead>\n",
       "    <tr style=\"text-align: right;\">\n",
       "      <th></th>\n",
       "      <th>fixed_acidity</th>\n",
       "      <th>volatile_acidity</th>\n",
       "      <th>citric_acid</th>\n",
       "      <th>residual_sugar</th>\n",
       "      <th>chlorides</th>\n",
       "      <th>free_sulfur_dioxide</th>\n",
       "      <th>total_sulfur_dioxide</th>\n",
       "      <th>density</th>\n",
       "      <th>pH</th>\n",
       "      <th>sulphates</th>\n",
       "      <th>alcohol</th>\n",
       "      <th>quality</th>\n",
       "    </tr>\n",
       "  </thead>\n",
       "  <tbody>\n",
       "    <tr>\n",
       "      <th>0</th>\n",
       "      <td>7.4</td>\n",
       "      <td>0.70</td>\n",
       "      <td>0.00</td>\n",
       "      <td>1.9</td>\n",
       "      <td>0.076</td>\n",
       "      <td>11.0</td>\n",
       "      <td>34.0</td>\n",
       "      <td>0.9978</td>\n",
       "      <td>3.51</td>\n",
       "      <td>0.56</td>\n",
       "      <td>9.4</td>\n",
       "      <td>5</td>\n",
       "    </tr>\n",
       "    <tr>\n",
       "      <th>1</th>\n",
       "      <td>7.8</td>\n",
       "      <td>0.88</td>\n",
       "      <td>0.00</td>\n",
       "      <td>2.6</td>\n",
       "      <td>0.098</td>\n",
       "      <td>25.0</td>\n",
       "      <td>67.0</td>\n",
       "      <td>0.9968</td>\n",
       "      <td>3.20</td>\n",
       "      <td>0.68</td>\n",
       "      <td>9.8</td>\n",
       "      <td>5</td>\n",
       "    </tr>\n",
       "    <tr>\n",
       "      <th>2</th>\n",
       "      <td>7.8</td>\n",
       "      <td>0.76</td>\n",
       "      <td>0.04</td>\n",
       "      <td>2.3</td>\n",
       "      <td>0.092</td>\n",
       "      <td>15.0</td>\n",
       "      <td>54.0</td>\n",
       "      <td>0.9970</td>\n",
       "      <td>3.26</td>\n",
       "      <td>0.65</td>\n",
       "      <td>9.8</td>\n",
       "      <td>5</td>\n",
       "    </tr>\n",
       "    <tr>\n",
       "      <th>3</th>\n",
       "      <td>11.2</td>\n",
       "      <td>0.28</td>\n",
       "      <td>0.56</td>\n",
       "      <td>1.9</td>\n",
       "      <td>0.075</td>\n",
       "      <td>17.0</td>\n",
       "      <td>60.0</td>\n",
       "      <td>0.9980</td>\n",
       "      <td>3.16</td>\n",
       "      <td>0.58</td>\n",
       "      <td>9.8</td>\n",
       "      <td>6</td>\n",
       "    </tr>\n",
       "    <tr>\n",
       "      <th>4</th>\n",
       "      <td>7.4</td>\n",
       "      <td>0.70</td>\n",
       "      <td>0.00</td>\n",
       "      <td>1.9</td>\n",
       "      <td>0.076</td>\n",
       "      <td>11.0</td>\n",
       "      <td>34.0</td>\n",
       "      <td>0.9978</td>\n",
       "      <td>3.51</td>\n",
       "      <td>0.56</td>\n",
       "      <td>9.4</td>\n",
       "      <td>5</td>\n",
       "    </tr>\n",
       "  </tbody>\n",
       "</table>\n",
       "</div>"
      ],
      "text/plain": [
       "   fixed_acidity  volatile_acidity  citric_acid  residual_sugar  chlorides  \\\n",
       "0            7.4              0.70         0.00             1.9      0.076   \n",
       "1            7.8              0.88         0.00             2.6      0.098   \n",
       "2            7.8              0.76         0.04             2.3      0.092   \n",
       "3           11.2              0.28         0.56             1.9      0.075   \n",
       "4            7.4              0.70         0.00             1.9      0.076   \n",
       "\n",
       "   free_sulfur_dioxide  total_sulfur_dioxide  density    pH  sulphates  \\\n",
       "0                 11.0                  34.0   0.9978  3.51       0.56   \n",
       "1                 25.0                  67.0   0.9968  3.20       0.68   \n",
       "2                 15.0                  54.0   0.9970  3.26       0.65   \n",
       "3                 17.0                  60.0   0.9980  3.16       0.58   \n",
       "4                 11.0                  34.0   0.9978  3.51       0.56   \n",
       "\n",
       "   alcohol  quality  \n",
       "0      9.4        5  \n",
       "1      9.8        5  \n",
       "2      9.8        5  \n",
       "3      9.8        6  \n",
       "4      9.4        5  "
      ]
     },
     "execution_count": 3,
     "metadata": {},
     "output_type": "execute_result"
    }
   ],
   "source": [
    "red_wine_data = pd.read_csv('resources/winequality-red.csv', sep=';')\n",
    "# Dictionary with column names which have space in the name as a key and replaced spaces to _ as value\n",
    "columns_to_replace = {name: name.replace(' ', '_') for name in red_wine_data.columns if ' ' in name}\n",
    "\n",
    "# Replace dataFrame colum names with spaces to names with '_' for better usability\n",
    "red_wine_data.rename(columns=columns_to_replace, inplace=True)\n",
    "red_wine_data.head()"
   ]
  },
  {
   "cell_type": "markdown",
   "metadata": {},
   "source": [
    "# V.1 Exploring the green reds"
   ]
  },
  {
   "cell_type": "markdown",
   "metadata": {},
   "source": [
    "## a) Function that plots a scatterplot matrix"
   ]
  },
  {
   "cell_type": "code",
   "execution_count": 21,
   "metadata": {},
   "outputs": [],
   "source": [
    "def plot_scatter_matrix(wine_data, good_threshold, bad_threshold, save_plot=False):\n",
    "    features = ['fixed_acidity', 'volatile_acidity', 'citric_acid', 'quality']\n",
    "    features = wine_data.columns # Only for test\n",
    "    features_amount = len(features) - 1\n",
    "    \n",
    "    data = wine_data[features]    \n",
    "    good_wines = data[data['quality'] >= good_threshold]\n",
    "    bad_wines = data[data['quality'] <= bad_threshold]    \n",
    "    \n",
    "    fig, axes = plt.subplots(nrows=features_amount, ncols=features_amount, figsize=(12,12))\n",
    "    fig.subplots_adjust(hspace=0.0, wspace=0.0)\n",
    "\n",
    "    for axis in axes.flat:\n",
    "        # Hide all ticks and labels\n",
    "        axis.xaxis.set_visible(False)\n",
    "        axis.yaxis.set_visible(False)\n",
    "\n",
    "    for i in range(features_amount):\n",
    "        for j in range(features_amount):\n",
    "            if i == j:\n",
    "                axes[i, j].annotate(good_wines.columns[i], (0.5, 0.5), xycoords='axes fraction', ha='center', va='center')\n",
    "            else:\n",
    "                axes[i, j].scatter(bad_wines.iloc[:, j], bad_wines.iloc[:, i], color='purple', marker='o', s=3)\n",
    "                axes[i, j].scatter(good_wines.iloc[:, j], good_wines.iloc[:, i], color='green', marker='o', s=3) \n",
    "    plt.show()\n",
    "    if save_plot:\n",
    "        fig.savefig('figure.png')\n",
    "#     return good_wines, bad_wines"
   ]
  },
  {
   "cell_type": "code",
   "execution_count": 18,
   "metadata": {},
   "outputs": [
    {
     "data": {
      "image/png": "[encoded data removed]",
      "text/plain": [
       "<Figure size 864x864 with 9 Axes>"
      ]
     },
     "metadata": {},
     "output_type": "display_data"
    }
   ],
   "source": [
    "plot_scatter_matrix(red_wine_data, 7, 4)\n"
   ]
  },
  {
   "cell_type": "markdown",
   "metadata": {},
   "source": [
    "### b)\n",
    "###### As we can see from figures bellow there are two types of factors: from which we can separte wines for good and bad and from which can't.\n",
    "###### So factors by which we can devide wines to two classes is:\n",
    "    1) fixed acidity/volatile acidity\n",
    "    2) fixed acidity/clorides\n",
    "    3) volatile_acidity/clorides\n",
    "    4) volatile_acidity/sulphates\n",
    "    5) volatile_acidity/alcohol\n",
    "    6) pH/alcohol\n",
    "    7) sulphates/alcohol - looks like we can try\n",
    "The main reasone why its good - we can lineary devide it to two classes - good and bad wines\n",
    "###### Other factors we can't lineary devide to two classes."
   ]
  },
  {
   "cell_type": "code",
   "execution_count": 22,
   "metadata": {},
   "outputs": [
    {
     "data": {
      "image/png": "[encoded data removed]",
      "text/plain": [
       "<Figure size 864x864 with 121 Axes>"
      ]
     },
     "metadata": {},
     "output_type": "display_data"
    }
   ],
   "source": [
    "plot_scatter_matrix(red_wine_data, 8, 3)"
   ]
  },
  {
   "cell_type": "markdown",
   "metadata": {},
   "source": [
    "# V.2 Learning to perceptron"
   ]
  },
  {
   "cell_type": "markdown",
   "metadata": {},
   "source": [
    "## a) Implement a perceptron that:\n",
    "    • Has randomly initialized weights and bias\n",
    "    • Uses the Rosenblatt perceptron learning rule (with changeable learning rate)\n",
    "    • Utilizes the heaviside step activation function (discrete version)"
   ]
  },
  {
   "cell_type": "code",
   "execution_count": 265,
   "metadata": {},
   "outputs": [],
   "source": [
    "class Perseptron:\n",
    "    def __init__(self, learning_rate: float, n_epoch: int, dataset):\n",
    "        # Has randomly initialized weights and bias\n",
    "        self.weights = [random.gauss(1.0, 1.5) for i in range(len(dataset[0]))]\n",
    "        self.learning_rate = learning_rate\n",
    "        self.dataset = dataset\n",
    "        self.n_epoch = n_epoch\n",
    "        self.sum_error = 0.0\n",
    "        self.correct_predictions = 0\n",
    "        self.wrong_predictions = 0\n",
    "        self.accuracy = 0.0\n",
    "        self.current_epoch = 0\n",
    "        self.training_statistics = list()\n",
    "        self.error = 0.0\n",
    "    \n",
    "    @property\n",
    "    def stop_training(self):\n",
    "        if self.n_epoch == 0:\n",
    "            return self.wrong_predictions == 0 and self.current_epoch > 0\n",
    "        else:\n",
    "            return self.current_epoch == self.n_epoch        \n",
    "\n",
    "    def __predict(self, row):\n",
    "        activation = self.weights[0]\n",
    "        for i in range(len(row) - 1):\n",
    "            activation += (self.weights[i + 1] * row[i])\n",
    "        # Utilizes the heaviside step activation function (discrete version)\n",
    "        return 1.0 if activation > 0.0 else 0.0\n",
    "    \n",
    "    def __calculate_weights(self):\n",
    "        for row in self.dataset:\n",
    "            prediction = self.__predict(row)\n",
    "            if prediction == row[-1]:\n",
    "                self.correct_predictions += 1\n",
    "            error = row[-1] - prediction\n",
    "            self.sum_error += error**2\n",
    "            self.weights[0] += (self.learning_rate * error)\n",
    "            for i in range(len(row) - 1):\n",
    "                # Uses the Rosenblatt perceptron learning rule (with changeable learning rate)\n",
    "                self.weights[i + 1] += (self.learning_rate * error * row[i])\n",
    "        self.accuracy = self.correct_predictions / len(self.dataset)\n",
    "        self.wrong_predictions = len(self.dataset) - self.correct_predictions\n",
    "\n",
    "    def __clean_statistics(self):\n",
    "        self.accuracy = 0.0\n",
    "        self.wrong_predictions = 0\n",
    "        self.correct_predictions = 0\n",
    "        self.sum_error = 0.0\n",
    "    \n",
    "    def train_perceptron(self):\n",
    "        while True:\n",
    "            if self.stop_training:\n",
    "                break\n",
    "            self.__clean_statistics()\n",
    "            self.__calculate_weights()\n",
    "            training_data = (self.current_epoch, self.wrong_predictions, self.weights[1:], self.weights[0], self.accuracy)\n",
    "            self.training_statistics.append(training_data)\n",
    "            self.current_epoch += 1\n",
    "        return self.training_statistics"
   ]
  },
  {
   "cell_type": "code",
   "execution_count": 266,
   "metadata": {
    "scrolled": true
   },
   "outputs": [
    {
     "name": "stderr",
     "output_type": "stream",
     "text": [
      "/Users/mvorona/mvorona/ml_env/lib/python3.6/site-packages/ipykernel_launcher.py:4: SettingWithCopyWarning: \n",
      "A value is trying to be set on a copy of a slice from a DataFrame.\n",
      "Try using .loc[row_indexer,col_indexer] = value instead\n",
      "\n",
      "See the caveats in the documentation: http://pandas.pydata.org/pandas-docs/stable/indexing.html#indexing-view-versus-copy\n",
      "  after removing the cwd from sys.path.\n"
     ]
    }
   ],
   "source": [
    "random.seed(3)\n",
    "\n",
    "dataset = red_wine_data[(red_wine_data['quality'] >=8) | (red_wine_data['quality'] <= 3)]\n",
    "dataset['y'] = dataset.apply(lambda data: 1.0 if data['quality'] >= 8 else 0.0, axis=1)\n",
    "dataset = dataset[['alcohol', 'pH', 'y']]\n",
    "\n",
    "p = Perseptron(0.01, 0, dataset.values)\n",
    "result_data = p.train_perceptron()"
   ]
  },
  {
   "cell_type": "markdown",
   "metadata": {},
   "source": [
    "###### c) Write a function that will take the output of your perceptron training function and your red wine data and generate two plots in one figure:\n",
    "    • The first plot should plot the number of errors your perceptron made as a function of epoch. Be careful with how you calculate errors!\n",
    "    \n",
    "    • The second plot should plot the decision boundary of your perceptron and also show ‘good’ and ‘bad’ wine data points on the final training epoch. This second plot should also shade ‘good’ and ‘bad’ areas!\n",
    "    \n",
    "    • Your function should allow the user to specify a specific epoch and see what the decision boundary of the perceptron was on that epoch. If a negative epoch is given, cause the plots to show the last epoch."
   ]
  },
  {
   "cell_type": "code",
   "execution_count": 271,
   "metadata": {},
   "outputs": [],
   "source": [
    "def plot_perfomance(perfomance, wine_data, dood_tresh, bad_tresh, epoch=-1, save_plot=False):\n",
    "    \"\"\"\n",
    "    Plot the perfomance of our perceptrone or adaline.\n",
    "    This funcion will reproduce a two plot figure:\n",
    "    1) Classification Errors vs. Epoch\n",
    "    2) Decision boundary for two factors\n",
    "    \"\"\"\n",
    "    pass"
   ]
  },
  {
   "cell_type": "code",
   "execution_count": 269,
   "metadata": {
    "scrolled": true
   },
   "outputs": [
    {
     "data": {
      "image/png": "[encoded data removed]",
      "text/plain": [
       "<Figure size 432x288 with 1 Axes>"
      ]
     },
     "metadata": {},
     "output_type": "display_data"
    }
   ],
   "source": [
    "errors = [elem[1] for elem in result_data]\n",
    "epochs = [elem[0] for elem in result_data]\n",
    "plt.plot(epochs, errors)\n",
    "plt.show()"
   ]
  },
  {
   "cell_type": "markdown",
   "metadata": {},
   "source": [
    "#### b) You’ll need to implement a function to train your perceptron. Your training function should take in your red wine data as a parameter and should:\n",
    "    • Have a way to specify number of training epochs\n",
    "    • Train your perceptron until it makes no errors, if training epochs is set to 0,\n",
    "    • Have a way to specify learning rate.\n",
    "    • Return a list of python tuples containing (performance):\n",
    "    \n",
    "    [(current_epoch, num_errors_at_epoch_end, [array_of_weights], bias),...]"
   ]
  },
  {
   "cell_type": "code",
   "execution_count": 34,
   "metadata": {},
   "outputs": [
    {
     "name": "stdout",
     "output_type": "stream",
     "text": [
      "None\n"
     ]
    }
   ],
   "source": []
  },
  {
   "cell_type": "code",
   "execution_count": 234,
   "metadata": {},
   "outputs": [
    {
     "name": "stdout",
     "output_type": "stream",
     "text": [
      "[1.1420620574309563, 2.8750365716253254, -0.39706755158106066, 2.4885659207788606, 0.611268193459849, 0.6077335240282391]\n"
     ]
    }
   ],
   "source": [
    "random.seed(3)\n",
    "print(list(random.gauss(1.0, 1.5) for i in range(6)))"
   ]
  },
  {
   "cell_type": "code",
   "execution_count": 10,
   "metadata": {},
   "outputs": [
    {
     "ename": "NameError",
     "evalue": "name 'weight_i' is not defined",
     "output_type": "error",
     "traceback": [
      "\u001b[0;31m---------------------------------------------------------------------------\u001b[0m",
      "\u001b[0;31mNameError\u001b[0m                                 Traceback (most recent call last)",
      "\u001b[0;32m<ipython-input-10-babff0e810ed>\u001b[0m in \u001b[0;36m<module>\u001b[0;34m()\u001b[0m\n\u001b[0;32m----> 1\u001b[0;31m \u001b[0mactivation\u001b[0m \u001b[0;34m=\u001b[0m \u001b[0msum\u001b[0m\u001b[0;34m(\u001b[0m\u001b[0mweight_i\u001b[0m \u001b[0;34m*\u001b[0m \u001b[0mx_i\u001b[0m\u001b[0;34m)\u001b[0m \u001b[0;34m+\u001b[0m \u001b[0mbias\u001b[0m\u001b[0;34m\u001b[0m\u001b[0m\n\u001b[0m",
      "\u001b[0;31mNameError\u001b[0m: name 'weight_i' is not defined"
     ]
    }
   ],
   "source": [
    "activation = sum(weight_i * x_i) + bias"
   ]
  },
  {
   "cell_type": "code",
   "execution_count": 11,
   "metadata": {},
   "outputs": [
    {
     "ename": "NameError",
     "evalue": "name 'activation' is not defined",
     "output_type": "error",
     "traceback": [
      "\u001b[0;31m---------------------------------------------------------------------------\u001b[0m",
      "\u001b[0;31mNameError\u001b[0m                                 Traceback (most recent call last)",
      "\u001b[0;32m<ipython-input-11-f99fd712b318>\u001b[0m in \u001b[0;36m<module>\u001b[0;34m()\u001b[0m\n\u001b[0;32m----> 1\u001b[0;31m \u001b[0mprediction\u001b[0m \u001b[0;34m=\u001b[0m \u001b[0;36m1.0\u001b[0m \u001b[0;32mif\u001b[0m \u001b[0mactivation\u001b[0m \u001b[0;34m>=\u001b[0m \u001b[0;36m0.0\u001b[0m \u001b[0;32melse\u001b[0m \u001b[0;36m0.0\u001b[0m\u001b[0;34m\u001b[0m\u001b[0m\n\u001b[0m",
      "\u001b[0;31mNameError\u001b[0m: name 'activation' is not defined"
     ]
    }
   ],
   "source": [
    "prediction = 1.0 if activation >= 0.0 else 0.0"
   ]
  },
  {
   "cell_type": "markdown",
   "metadata": {},
   "source": [
    "#### For the Perceptron algorithm, each iteration the weights (w) are updated using the equation:\n",
    "w = w + learning_rate * (expected - predicted) * x"
   ]
  },
  {
   "cell_type": "code",
   "execution_count": 12,
   "metadata": {},
   "outputs": [
    {
     "ename": "NameError",
     "evalue": "name 'w' is not defined",
     "output_type": "error",
     "traceback": [
      "\u001b[0;31m---------------------------------------------------------------------------\u001b[0m",
      "\u001b[0;31mNameError\u001b[0m                                 Traceback (most recent call last)",
      "\u001b[0;32m<ipython-input-12-c24e5bf58a9b>\u001b[0m in \u001b[0;36m<module>\u001b[0;34m()\u001b[0m\n\u001b[0;32m----> 1\u001b[0;31m \u001b[0mw\u001b[0m \u001b[0;34m=\u001b[0m \u001b[0mw\u001b[0m \u001b[0;34m+\u001b[0m \u001b[0mlearning_rate\u001b[0m \u001b[0;34m*\u001b[0m \u001b[0;34m(\u001b[0m\u001b[0mexpected\u001b[0m \u001b[0;34m-\u001b[0m \u001b[0mpredicted\u001b[0m\u001b[0;34m)\u001b[0m \u001b[0;34m*\u001b[0m \u001b[0mx\u001b[0m\u001b[0;34m\u001b[0m\u001b[0m\n\u001b[0m",
      "\u001b[0;31mNameError\u001b[0m: name 'w' is not defined"
     ]
    }
   ],
   "source": [
    "w = w + learning_rate * (expected - predicted) * x"
   ]
  },
  {
   "cell_type": "markdown",
   "metadata": {},
   "source": [
    "##### There is one weight for each input attribute, and these are updated in a consistent way, for example:\n",
    "w(t+1)= w(t) + learning_rate * (expected(t) - predicted(t)) * x(t)"
   ]
  },
  {
   "cell_type": "markdown",
   "metadata": {},
   "source": [
    "##### The bias is updated in a similar way, except without an input as it is not associated with a specific input value:\n",
    "bias(t+1) = bias(t) + learning_rate * (expected(t) - predicted(t))\n"
   ]
  },
  {
   "cell_type": "code",
   "execution_count": null,
   "metadata": {},
   "outputs": [],
   "source": []
  },
  {
   "cell_type": "markdown",
   "metadata": {},
   "source": [
    "##### Below is a function named predict() that predicts an output value for a row given a set of weights.\n",
    "\n",
    "The first weight is always the bias as it is standalone and not responsible for a specific input value."
   ]
  },
  {
   "cell_type": "code",
   "execution_count": 408,
   "metadata": {},
   "outputs": [],
   "source": [
    "import random\n",
    "\n",
    "\n",
    "class Perseptron:\n",
    "    def __init__(self, learning_rate: float, n_epoch: int, dataset):\n",
    "        self.weights = [random.gauss(2.0, 0.5) for i in range(len(dataset[0]))]\n",
    "        self.learning_rate = learning_rate\n",
    "        self.dataset = dataset\n",
    "        self.n_epoch = n_epoch\n",
    "        self.sum_error = 0.0\n",
    "        self.correct_predictions = 0\n",
    "        self.wrong_predictions = 0\n",
    "        self.accuracy = 0.0\n",
    "        self.current_epoch = 0\n",
    "        self.training_statistics = list()\n",
    "        self.error = 0.0\n",
    "    \n",
    "    @property\n",
    "    def stop_training(self):\n",
    "        if self.n_epoch == 0:\n",
    "            return self.wrong_predictions == 0 and self.current_epoch > \n",
    "        else:\n",
    "            return self.current_epoch == self.n_epoch        \n",
    "\n",
    "    def __predict(self, row):\n",
    "        activation = self.weights[0]\n",
    "        for i in range(len(row) - 1):\n",
    "            activation += (self.weights[i + 1] * row[i])\n",
    "        return 1.0 if activation > 0.0 else 0.0\n",
    "    \n",
    "    def __calculate_weights(self):\n",
    "        for row in self.dataset:\n",
    "            prediction = self.__predict(row)\n",
    "            if prediction == row[-1]:\n",
    "                self.correct_predictions += 1\n",
    "            error = row[-1] - prediction\n",
    "            self.sum_error += error**2\n",
    "            self.weights[0] += (self.learning_rate * error)\n",
    "            for i in range(len(row) - 1):\n",
    "                self.weights[i + 1] += (self.learning_rate * error * row[i])\n",
    "        self.accuracy = self.correct_predictions / len(self.dataset)\n",
    "        self.wrong_predictions = len(self.dataset) - self.correct_predictions\n",
    "\n",
    "    def __clean_statistics(self):\n",
    "        self.accuracy = 0.0\n",
    "        self.wrong_predictions = 0.0\n",
    "        self.correct_predictions = 0.0\n",
    "        self.sum_error = 0.0\n",
    "    \n",
    "    def train_perceptron(self):\n",
    "        while True:\n",
    "            if self.stop_training:\n",
    "                break\n",
    "            self.__calculate_weights()\n",
    "#             message = f'current_epoch: {self.current_epoch}, n_errors: {self.wrong_predictions}, accuracy: {self.accuracy}'\n",
    "#             print(message)\n",
    "            training_data = (self.current_epoch, self.wrong_predictions, self.weights[1:], self.weights[0], self.accuracy)\n",
    "            self.training_statistics.append(training_data)\n",
    "            self.__clean_statistics()\n",
    "            self.current_epoch += 1\n",
    "        return self.training_statistics"
   ]
  },
  {
   "cell_type": "code",
   "execution_count": 410,
   "metadata": {},
   "outputs": [
    {
     "name": "stderr",
     "output_type": "stream",
     "text": [
      "/Users/mvorona/mvorona/ml_env/lib/python3.6/site-packages/ipykernel_launcher.py:2: SettingWithCopyWarning: \n",
      "A value is trying to be set on a copy of a slice from a DataFrame.\n",
      "Try using .loc[row_indexer,col_indexer] = value instead\n",
      "\n",
      "See the caveats in the documentation: http://pandas.pydata.org/pandas-docs/stable/indexing.html#indexing-view-versus-copy\n",
      "  \n"
     ]
    },
    {
     "data": {
      "image/png": "[encoded data removed]",
      "text/plain": [
       "<Figure size 432x288 with 1 Axes>"
      ]
     },
     "metadata": {},
     "output_type": "display_data"
    }
   ],
   "source": [
    "dataset = red_wine_data[(red_wine_data['quality'] >=8) | (red_wine_data['quality'] <= 3)]\n",
    "dataset['y'] = dataset.apply(lambda data: 1.0 if data['quality'] >= 8 else 0.0, axis=1)\n",
    "dataset = dataset[['alcohol', 'pH', 'y']]\n",
    "\n",
    "p = Perseptron(0.01, 0, dataset.values)\n",
    "result_data = p.train_perceptron()\n",
    "errors = [elem[1] for elem in result_data]\n",
    "epochs = [elem[0] for elem in result_data]\n",
    "plt.plot(epochs, errors)\n",
    "plt.show()\n"
   ]
  },
  {
   "cell_type": "code",
   "execution_count": 489,
   "metadata": {},
   "outputs": [],
   "source": [
    "%%cython\n",
    "from cpython cimport array\n",
    "import array\n",
    "\n",
    "# def array.array a = array.array(l1)\n",
    "cdef array.array a = array.array('i', [1, 2, 3])\n",
    "print(a)\n",
    "a"
   ]
  },
  {
   "cell_type": "code",
   "execution_count": null,
   "metadata": {},
   "outputs": [],
   "source": []
  },
  {
   "cell_type": "code",
   "execution_count": 12,
   "metadata": {},
   "outputs": [
    {
     "data": {
      "text/plain": [
       "(<Figure size 432x288 with 4 Axes>,\n",
       " array([[<matplotlib.axes._subplots.AxesSubplot object at 0x7f8481e2bbe0>,\n",
       "         <matplotlib.axes._subplots.AxesSubplot object at 0x7f8481e536d8>],\n",
       "        [<matplotlib.axes._subplots.AxesSubplot object at 0x7f8481dfcac8>,\n",
       "         <matplotlib.axes._subplots.AxesSubplot object at 0x7f8481da6eb8>]],\n",
       "       dtype=object))"
      ]
     },
     "execution_count": 12,
     "metadata": {},
     "output_type": "execute_result"
    },
    {
     "data": {
      "image/png": "[encoded data removed]",
      "text/plain": [
       "<Figure size 432x288 with 4 Axes>"
      ]
     },
     "metadata": {},
     "output_type": "display_data"
    }
   ],
   "source": [
    "plt.subplots(2, 2, sharex='all', sharey='all')\n"
   ]
  }
 ],
 "metadata": {
  "kernelspec": {
   "display_name": "Python 3",
   "language": "python",
   "name": "python3"
  },
  "language_info": {
   "codemirror_mode": {
    "name": "ipython",
    "version": 3
   },
   "file_extension": ".py",
   "mimetype": "text/x-python",
   "name": "python",
   "nbconvert_exporter": "python",
   "pygments_lexer": "ipython3",
   "version": "3.6.2"
  }
 },
 "nbformat": 4,
 "nbformat_minor": 2
}
